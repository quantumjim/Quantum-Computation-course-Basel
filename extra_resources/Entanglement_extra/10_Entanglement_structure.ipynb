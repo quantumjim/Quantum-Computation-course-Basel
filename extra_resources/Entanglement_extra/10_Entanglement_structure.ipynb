{
 "cells": [
  {
   "cell_type": "code",
   "execution_count": 1,
   "metadata": {},
   "outputs": [
    {
     "data": {
      "text/plain": [
       "'\\nDifferent ansätze generate different entanglement patterns, affecting trainability and noise sensitivity.\\n\\nExercises:\\n- Visualize both curves and discuss trainability vs. noise.\\n'"
      ]
     },
     "execution_count": 1,
     "metadata": {},
     "output_type": "execute_result"
    }
   ],
   "source": [
    "\"\"\"\n",
    "Different ansätze generate different entanglement patterns, affecting trainability and noise sensitivity.\n",
    "\n",
    "Exercises:\n",
    "- Visualize both curves and discuss trainability vs. noise.\n",
    "\"\"\""
   ]
  },
  {
   "cell_type": "code",
   "execution_count": 2,
   "metadata": {},
   "outputs": [],
   "source": [
    "import numpy as np\n",
    "from qiskit import QuantumCircuit\n",
    "from qiskit.quantum_info import Statevector, DensityMatrix, partial_trace\n",
    "\n",
    "def hea_layer(n, theta):\n",
    "    qc = QuantumCircuit(n)\n",
    "    for q in range(n): qc.rx(0.8,q); qc.ry(0.5,q); qc.rz(0.3,q)\n",
    "    for i in range(n-1): qc.rxx(theta,i,i+1)\n",
    "    return qc\n",
    "\n",
    "def pair_layer(n, theta):\n",
    "    qc = QuantumCircuit(n)\n",
    "    for q in range(n): qc.rx(0.8,q); qc.ry(0.5,q); qc.rz(0.3,q)\n",
    "    for i in range(0,n-1,2): qc.rxx(theta,i,i+1)\n",
    "    for i in range(1,n-1,2): qc.rxx(theta,i,i+1)\n",
    "    return qc\n",
    "\n",
    "def mid_entropy(psi, n):\n",
    "    rhoA = partial_trace(DensityMatrix(psi), list(range(n//2))).data # Trace out qubit 1\n",
    "    evals = np.linalg.eigvalsh(rhoA)\n",
    "    evals = evals[evals>1e-12]\n",
    "    return sum(-evals*np.log2(evals))"
   ]
  },
  {
   "cell_type": "code",
   "execution_count": 3,
   "metadata": {},
   "outputs": [
    {
     "name": "stdout",
     "output_type": "stream",
     "text": [
      "hea_layer for 8 qubits:\n",
      "     ┌─────────┐┌─────────┐┌─────────┐┌───────────┐                          »\n",
      "q_0: ┤ Rx(0.8) ├┤ Ry(0.5) ├┤ Rz(0.3) ├┤0          ├──────────────────────────»\n",
      "     ├─────────┤├─────────┤├─────────┤│  Rxx(0.2) │┌───────────┐             »\n",
      "q_1: ┤ Rx(0.8) ├┤ Ry(0.5) ├┤ Rz(0.3) ├┤1          ├┤0          ├─────────────»\n",
      "     ├─────────┤├─────────┤├─────────┤└───────────┘│  Rxx(0.2) │┌───────────┐»\n",
      "q_2: ┤ Rx(0.8) ├┤ Ry(0.5) ├┤ Rz(0.3) ├─────────────┤1          ├┤0          ├»\n",
      "     ├─────────┤├─────────┤├─────────┤             └───────────┘│  Rxx(0.2) │»\n",
      "q_3: ┤ Rx(0.8) ├┤ Ry(0.5) ├┤ Rz(0.3) ├──────────────────────────┤1          ├»\n",
      "     ├─────────┤├─────────┤├─────────┤                          └───────────┘»\n",
      "q_4: ┤ Rx(0.8) ├┤ Ry(0.5) ├┤ Rz(0.3) ├───────────────────────────────────────»\n",
      "     ├─────────┤├─────────┤├─────────┤                                       »\n",
      "q_5: ┤ Rx(0.8) ├┤ Ry(0.5) ├┤ Rz(0.3) ├───────────────────────────────────────»\n",
      "     ├─────────┤├─────────┤├─────────┤                                       »\n",
      "q_6: ┤ Rx(0.8) ├┤ Ry(0.5) ├┤ Rz(0.3) ├───────────────────────────────────────»\n",
      "     ├─────────┤├─────────┤├─────────┤                                       »\n",
      "q_7: ┤ Rx(0.8) ├┤ Ry(0.5) ├┤ Rz(0.3) ├───────────────────────────────────────»\n",
      "     └─────────┘└─────────┘└─────────┘                                       »\n",
      "«                                                         \n",
      "«q_0: ────────────────────────────────────────────────────\n",
      "«                                                         \n",
      "«q_1: ────────────────────────────────────────────────────\n",
      "«                                                         \n",
      "«q_2: ────────────────────────────────────────────────────\n",
      "«     ┌───────────┐                                       \n",
      "«q_3: ┤0          ├───────────────────────────────────────\n",
      "«     │  Rxx(0.2) │┌───────────┐                          \n",
      "«q_4: ┤1          ├┤0          ├──────────────────────────\n",
      "«     └───────────┘│  Rxx(0.2) │┌───────────┐             \n",
      "«q_5: ─────────────┤1          ├┤0          ├─────────────\n",
      "«                  └───────────┘│  Rxx(0.2) │┌───────────┐\n",
      "«q_6: ──────────────────────────┤1          ├┤0          ├\n",
      "«                               └───────────┘│  Rxx(0.2) │\n",
      "«q_7: ───────────────────────────────────────┤1          ├\n",
      "«                                            └───────────┘\n",
      "pair_layer for 8 qubits:\n",
      "     ┌─────────┐┌─────────┐┌─────────┐┌───────────┐             \n",
      "q_0: ┤ Rx(0.8) ├┤ Ry(0.5) ├┤ Rz(0.3) ├┤0          ├─────────────\n",
      "     ├─────────┤├─────────┤├─────────┤│  Rxx(0.2) │┌───────────┐\n",
      "q_1: ┤ Rx(0.8) ├┤ Ry(0.5) ├┤ Rz(0.3) ├┤1          ├┤0          ├\n",
      "     ├─────────┤├─────────┤├─────────┤├───────────┤│  Rxx(0.2) │\n",
      "q_2: ┤ Rx(0.8) ├┤ Ry(0.5) ├┤ Rz(0.3) ├┤0          ├┤1          ├\n",
      "     ├─────────┤├─────────┤├─────────┤│  Rxx(0.2) │├───────────┤\n",
      "q_3: ┤ Rx(0.8) ├┤ Ry(0.5) ├┤ Rz(0.3) ├┤1          ├┤0          ├\n",
      "     ├─────────┤├─────────┤├─────────┤├───────────┤│  Rxx(0.2) │\n",
      "q_4: ┤ Rx(0.8) ├┤ Ry(0.5) ├┤ Rz(0.3) ├┤0          ├┤1          ├\n",
      "     ├─────────┤├─────────┤├─────────┤│  Rxx(0.2) │├───────────┤\n",
      "q_5: ┤ Rx(0.8) ├┤ Ry(0.5) ├┤ Rz(0.3) ├┤1          ├┤0          ├\n",
      "     ├─────────┤├─────────┤├─────────┤├───────────┤│  Rxx(0.2) │\n",
      "q_6: ┤ Rx(0.8) ├┤ Ry(0.5) ├┤ Rz(0.3) ├┤0          ├┤1          ├\n",
      "     ├─────────┤├─────────┤├─────────┤│  Rxx(0.2) │└───────────┘\n",
      "q_7: ┤ Rx(0.8) ├┤ Ry(0.5) ├┤ Rz(0.3) ├┤1          ├─────────────\n",
      "     └─────────┘└─────────┘└─────────┘└───────────┘             \n"
     ]
    }
   ],
   "source": [
    "print(\"hea_layer for 8 qubits:\",)\n",
    "qc = hea_layer(8,0.2)\n",
    "print(qc)\n",
    "print(\"pair_layer for 8 qubits:\")\n",
    "qc = pair_layer(8,0.2)\n",
    "print(qc)"
   ]
  },
  {
   "cell_type": "code",
   "execution_count": 4,
   "metadata": {},
   "outputs": [
    {
     "name": "stdout",
     "output_type": "stream",
     "text": [
      "HEA: [(0, np.float64(0.0)), (1, np.float64(0.14109578748254875)), (2, np.float64(0.2368415930101412)), (3, np.float64(0.5144193774363365)), (4, np.float64(0.7858958956013805)), (5, np.float64(0.9265154729319807)), (6, np.float64(1.0996001206224981))]\n",
      "Pair: [(0, np.float64(0.0)), (1, np.float64(0.14109578748254875)), (2, np.float64(0.23684159301014218)), (3, np.float64(0.5144193774363377)), (4, np.float64(0.7858958956013814)), (5, np.float64(0.9265154729319804)), (6, np.float64(1.0996001206224975))]\n",
      "Overlap: [(0, np.float64(1.0)), (1, np.float64(0.9999999999999978)), (2, np.float64(0.9999999999999956)), (3, np.float64(0.9999999999999947)), (4, np.float64(0.9999999999999927)), (5, np.float64(0.9999999999999909)), (6, np.float64(0.9999999999999889))]\n"
     ]
    }
   ],
   "source": [
    "n=8; L=6; theta=0.4\n",
    "psi_he = Statevector.from_label(\"0\"*n)\n",
    "psi_pair = Statevector.from_label(\"0\"*n)\n",
    "hea, pair, overlap = [], [], []\n",
    "for d in range(L+1):\n",
    "    hea.append((d, mid_entropy(psi_he,n)))\n",
    "    pair.append((d, mid_entropy(psi_pair,n)))\n",
    "    overlap.append((d, (np.abs(psi_he.data.conj().T @ psi_pair.data))**2))\n",
    "    if d<L:\n",
    "        psi_he = psi_he.evolve(hea_layer(n,theta))\n",
    "        psi_pair = psi_pair.evolve(pair_layer(n,theta))\n",
    "\n",
    "print(\"HEA:\", hea)\n",
    "print(\"Pair:\", pair)\n",
    "print(\"Overlap:\", overlap)"
   ]
  },
  {
   "cell_type": "code",
   "execution_count": 5,
   "metadata": {},
   "outputs": [],
   "source": [
    "def hea_layer_alt(n, theta):\n",
    "    qc = QuantumCircuit(n)\n",
    "    for q in range(n): qc.rx(0.8,q); qc.ry(0.5,q); qc.rz(0.3,q)\n",
    "    for i in range(n-1): \n",
    "        if i % 2 == 0:\n",
    "            qc.rxx(theta,i,i+1)\n",
    "        else:\n",
    "            qc.ryy(theta,i,i+1)\n",
    "    return qc\n",
    "\n",
    "def pair_layer_alt(n, theta):\n",
    "    qc = QuantumCircuit(n)\n",
    "    for q in range(n): qc.rx(0.8,q); qc.ry(0.5,q); qc.rz(0.3,q)\n",
    "    for i in range(0,n-1,2): qc.rxx(theta,i,i+1)\n",
    "    for i in range(1,n-1,2): qc.ryy(theta,i,i+1)\n",
    "    return qc"
   ]
  },
  {
   "cell_type": "code",
   "execution_count": 6,
   "metadata": {},
   "outputs": [
    {
     "name": "stdout",
     "output_type": "stream",
     "text": [
      "HEA: [(0, np.float64(0.0)), (1, np.float64(0.11585759836549395)), (2, np.float64(0.13666544165112313)), (3, np.float64(0.31175719823869114)), (4, np.float64(0.5268886662772366)), (5, np.float64(0.7065218696053106)), (6, np.float64(0.8443450713092262))]\n",
      "Pair: [(0, np.float64(0.0)), (1, np.float64(0.09273514883335729)), (2, np.float64(0.1651926342187447)), (3, np.float64(0.414436373899551)), (4, np.float64(0.6577144016537176)), (5, np.float64(0.8624055109775808)), (6, np.float64(0.937592949714684))]\n",
      "Overlap: [(0, np.float64(1.0)), (1, np.float64(0.982439264963681)), (2, np.float64(0.9542857216675236)), (3, np.float64(0.9274834863273084)), (4, np.float64(0.9189695626001178)), (5, np.float64(0.9166720426781583)), (6, np.float64(0.9168803426989058))]\n"
     ]
    }
   ],
   "source": [
    "n=8; L=6; theta=0.4\n",
    "psi_he = Statevector.from_label(\"0\"*n)\n",
    "psi_pair = Statevector.from_label(\"0\"*n)\n",
    "hea, pair, overlap = [], [], []\n",
    "for d in range(L+1):\n",
    "    hea.append((d, mid_entropy(psi_he,n)))\n",
    "    pair.append((d, mid_entropy(psi_pair,n)))\n",
    "    overlap.append((d, (np.abs(psi_he.data.conj().T @ psi_pair.data))**2))\n",
    "    if d<L:\n",
    "        psi_he = psi_he.evolve(hea_layer_alt(n,theta))\n",
    "        psi_pair = psi_pair.evolve(pair_layer_alt(n,theta))\n",
    "\n",
    "print(\"HEA:\", hea)\n",
    "print(\"Pair:\", pair)\n",
    "print(\"Overlap:\", overlap)"
   ]
  },
  {
   "cell_type": "markdown",
   "metadata": {},
   "source": []
  }
 ],
 "metadata": {
  "kernelspec": {
   "display_name": ".venv",
   "language": "python",
   "name": "python3"
  },
  "language_info": {
   "codemirror_mode": {
    "name": "ipython",
    "version": 3
   },
   "file_extension": ".py",
   "mimetype": "text/x-python",
   "name": "python",
   "nbconvert_exporter": "python",
   "pygments_lexer": "ipython3",
   "version": "3.12.8"
  }
 },
 "nbformat": 4,
 "nbformat_minor": 2
}
